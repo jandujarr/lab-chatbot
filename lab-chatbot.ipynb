{
 "cells": [
  {
   "cell_type": "markdown",
   "id": "a9183228-0ba6-4af9-8430-649e28868253",
   "metadata": {
    "id": "JMXGlIvAwn30"
   },
   "source": [
    "# **The Chat Format**\n",
    "\n",
    "In this notebook, you will explore how you can utilize the chat format to have extended conversations with chatbots personalized or specialized for specific tasks or behaviors.\n",
    "\n",
    "## Setup"
   ]
  },
  {
   "cell_type": "code",
   "execution_count": null,
   "id": "cd9bfdfd",
   "metadata": {},
   "outputs": [],
   "source": [
    "!pip install openai\n",
    "!pip install jupyter_bokeh"
   ]
  },
  {
   "cell_type": "code",
   "execution_count": 2,
   "id": "0c2065f6",
   "metadata": {},
   "outputs": [],
   "source": [
    "import openai"
   ]
  },
  {
   "cell_type": "code",
   "execution_count": 3,
   "id": "7fa0d9b5",
   "metadata": {
    "tags": []
   },
   "outputs": [],
   "source": [
    "from openai import OpenAI\n",
    "import os\n",
    "\n",
    "from dotenv import load_dotenv, find_dotenv\n",
    "_ = load_dotenv(find_dotenv()) # read local .env file\n",
    "\n",
    "OPENAI_API_KEY  = os.getenv('OPENAI_API_KEY')"
   ]
  },
  {
   "cell_type": "markdown",
   "id": "429f1e90",
   "metadata": {},
   "source": [
    "This is added from the original lab"
   ]
  },
  {
   "cell_type": "code",
   "execution_count": 6,
   "id": "48a7f382",
   "metadata": {},
   "outputs": [],
   "source": [
    "#add\n",
    "import os\n",
    "from dotenv import load_dotenv\n",
    "\n",
    "# Load environment variables from .env file\n",
    "load_dotenv()\n",
    "openai_api_key = os.getenv(\"OPENAI_API_KEY\")"
   ]
  },
  {
   "cell_type": "code",
   "execution_count": 7,
   "id": "d20e35fc",
   "metadata": {},
   "outputs": [],
   "source": [
    "#add\n",
    "import openai\n",
    "import os\n",
    "from dotenv import load_dotenv\n",
    "\n",
    "load_dotenv()  # Load .env file\n",
    "api_key = os.getenv(\"OPENAI_API_KEY\")\n",
    "\n",
    "# Initialize the OpenAI client with the API key\n",
    "openai.api_key = api_key\n",
    "\n",
    "def get_completion(prompt, model=\"gpt-3.5-turbo\", temperature=0): \n",
    "    messages = [{\"role\": \"user\", \"content\": prompt}]\n",
    "    # Assuming there's more to the function, like sending the request"
   ]
  },
  {
   "cell_type": "code",
   "execution_count": null,
   "id": "43027020",
   "metadata": {},
   "outputs": [],
   "source": [
    "#add\n",
    "#Print openai_api_key to make sure it holds the correct value\n",
    "print(\"API Key: \", openai_api_key)"
   ]
  },
  {
   "cell_type": "markdown",
   "id": "486f4126",
   "metadata": {},
   "source": [
    "end of the added api key issue"
   ]
  },
  {
   "cell_type": "code",
   "execution_count": 9,
   "id": "f5308d65",
   "metadata": {
    "tags": []
   },
   "outputs": [],
   "source": [
    "client = OpenAI(\n",
    "    # This is the default and can be omitted\n",
    "    api_key=OPENAI_API_KEY,\n",
    ")\n",
    "\n",
    "def get_completion(prompt, model=\"gpt-3.5-turbo\", temperature=0): \n",
    "    messages = [{\"role\": \"user\", \"content\": prompt}]\n",
    "    response = client.chat.completions.create(\n",
    "        model=model,\n",
    "        messages=messages,\n",
    "        temperature=temperature, \n",
    "    )\n",
    "    return response.choices[0].message.content\n",
    "\n",
    "\n",
    "def get_completion_from_messages(message, model=\"gpt-3.5-turbo\", temperature=0): \n",
    "    response = client.chat.completions.create(\n",
    "        model=model,\n",
    "        messages=message,\n",
    "        temperature=temperature, \n",
    "    )\n",
    "    return response.choices[0].message.content"
   ]
  },
  {
   "cell_type": "code",
   "execution_count": 10,
   "id": "cee681b7",
   "metadata": {
    "tags": []
   },
   "outputs": [],
   "source": [
    "messages =  [  \n",
    "{'role':'system', 'content':'You are an assistant that speaks like Shakespeare.'},    \n",
    "{'role':'user', 'content':'tell me a joke'},   \n",
    "{'role':'assistant', 'content':'Why did the chicken cross the road'},   \n",
    "{'role':'user', 'content':'I don\\'t know'}  ]"
   ]
  },
  {
   "cell_type": "markdown",
   "id": "326c27e1",
   "metadata": {},
   "source": [
    "the response is giving issues. I added another coomand underneith"
   ]
  },
  {
   "cell_type": "code",
   "execution_count": null,
   "id": "da45ea0f",
   "metadata": {
    "tags": []
   },
   "outputs": [],
   "source": [
    "response = get_completion_from_messages(messages, temperature=1)\n",
    "print(response)"
   ]
  },
  {
   "cell_type": "code",
   "execution_count": 21,
   "id": "8040a8bb",
   "metadata": {},
   "outputs": [],
   "source": [
    "import time\n",
    "import openai\n",
    "\n",
    "def get_completion(prompt, model=\"gpt-3.5-turbo\", temperature=0):\n",
    "    for attempt in range(1, 6):  # Retry up to 5 times\n",
    "        try:\n",
    "            response = openai.ChatCompletion.create(\n",
    "                model=model,\n",
    "                messages=[{\"role\": \"user\", \"content\": prompt}],\n",
    "                temperature=temperature,\n",
    "            )\n",
    "            return response.choices[0].message.content\n",
    "        except openai.error.RateLimitError as e:\n",
    "            print(f\"Rate limit error, retrying attempt {attempt}.\")\n",
    "            time.sleep(2 ** attempt)  # Exponential backoff\n",
    "    raise Exception(\"Failed to get completion after retries due to rate limit errors\")"
   ]
  },
  {
   "cell_type": "markdown",
   "id": "3c9bb134",
   "metadata": {},
   "source": [
    "end of the added response"
   ]
  },
  {
   "cell_type": "code",
   "execution_count": null,
   "id": "ca733f8f",
   "metadata": {
    "tags": []
   },
   "outputs": [],
   "source": [
    "messages =  [  \n",
    "{'role':'system', 'content':'You are friendly chatbot.'},    \n",
    "{'role':'user', 'content':'Hi, my name is Isa'}  ]\n",
    "response = get_completion_from_messages(messages, temperature=1)\n",
    "print(response)"
   ]
  },
  {
   "cell_type": "code",
   "execution_count": null,
   "id": "0ae595bc",
   "metadata": {
    "tags": []
   },
   "outputs": [],
   "source": [
    "messages =  [  \n",
    "{'role':'system', 'content':'You are friendly chatbot.'},    \n",
    "{'role':'user', 'content':'Yes,  can you remind me, What is my name?'}  ]\n",
    "response = get_completion_from_messages(messages, temperature=1)\n",
    "print(response)"
   ]
  },
  {
   "cell_type": "code",
   "execution_count": null,
   "id": "56cbb817",
   "metadata": {
    "tags": []
   },
   "outputs": [],
   "source": [
    "messages =  [  \n",
    "{'role':'system', 'content':'You are friendly chatbot.'},\n",
    "{'role':'user', 'content':'Hi, my name is Isa'},\n",
    "{'role':'assistant', 'content': \"Hi Isa! It's nice to meet you. \\\n",
    "Is there anything I can help you with today?\"},\n",
    "{'role':'user', 'content':'Yes, you can remind me, What is my name?'}  ]\n",
    "response = get_completion_from_messages(messages, temperature=1)\n",
    "print(response)"
   ]
  },
  {
   "cell_type": "markdown",
   "id": "dedba66a-58b0-40d4-b9ae-47e79ae22328",
   "metadata": {
    "id": "bBg_MpXeYnTq"
   },
   "source": [
    "# OrderBot\n",
    "We can automate the collection of user prompts and assistant responses to build a  OrderBot. The OrderBot will take orders at a pizza restaurant. "
   ]
  },
  {
   "cell_type": "code",
   "execution_count": 25,
   "id": "e76749ac",
   "metadata": {
    "tags": []
   },
   "outputs": [],
   "source": [
    "def collect_messages(_):\n",
    "    prompt = inp.value_input\n",
    "    inp.value = ''\n",
    "    context.append({'role':'user', 'content':f\"{prompt}\"})\n",
    "    response = get_completion_from_messages(context) \n",
    "    context.append({'role':'assistant', 'content':f\"{response}\"})\n",
    "    panels.append(\n",
    "        pn.Row('User:', pn.pane.Markdown(prompt, width=600)))\n",
    "    panels.append(\n",
    "        pn.Row('Assistant:', pn.pane.Markdown(response, width=600, styles={'background-color': '#F6F6F6'})))\n",
    " \n",
    "    return pn.Column(*panels)\n"
   ]
  },
  {
   "cell_type": "code",
   "execution_count": null,
   "id": "474b557c",
   "metadata": {
    "tags": []
   },
   "outputs": [],
   "source": [
    "import panel as pn  # GUI\n",
    "pn.extension()\n",
    "\n",
    "panels = [] # collect display \n",
    "\n",
    "context = [ {'role':'system', 'content':\"\"\"\n",
    "You are OrderBot, an automated service to collect orders for a pizza restaurant. \\\n",
    "You first greet the customer, then collects the order, \\\n",
    "and then asks if it's a pickup or delivery. \\\n",
    "You wait to collect the entire order, then summarize it and check for a final \\\n",
    "time if the customer wants to add anything else. \\\n",
    "If it's a delivery, you ask for an address. \\\n",
    "Finally you collect the payment.\\\n",
    "Make sure to clarify all options, extras and sizes to uniquely \\\n",
    "identify the item from the menu.\\\n",
    "You respond in a short, very conversational friendly style. \\\n",
    "The menu includes \\\n",
    "pepperoni pizza  12.95, 10.00, 7.00 \\\n",
    "cheese pizza   10.95, 9.25, 6.50 \\\n",
    "eggplant pizza   11.95, 9.75, 6.75 \\\n",
    "fries 4.50, 3.50 \\\n",
    "greek salad 7.25 \\\n",
    "Toppings: \\\n",
    "extra cheese 2.00, \\\n",
    "mushrooms 1.50 \\\n",
    "sausage 3.00 \\\n",
    "canadian bacon 3.50 \\\n",
    "AI sauce 1.50 \\\n",
    "peppers 1.00 \\\n",
    "Drinks: \\\n",
    "coke 3.00, 2.00, 1.00 \\\n",
    "sprite 3.00, 2.00, 1.00 \\\n",
    "bottled water 5.00 \\\n",
    "\"\"\"} ]  # accumulate messages\n",
    "\n",
    "\n",
    "inp = pn.widgets.TextInput(value=\"Hi\", placeholder='Enter text here…')\n",
    "button_conversation = pn.widgets.Button(name=\"Chat!\")\n",
    "\n",
    "interactive_conversation = pn.bind(collect_messages, button_conversation)\n",
    "\n",
    "dashboard = pn.Column(\n",
    "    inp,\n",
    "    pn.Row(button_conversation),\n",
    "    pn.panel(interactive_conversation, loading_indicator=True, height=300),\n",
    ")\n",
    "\n",
    "dashboard"
   ]
  },
  {
   "cell_type": "code",
   "execution_count": null,
   "id": "a0ee11b9",
   "metadata": {},
   "outputs": [],
   "source": [
    "messages =  context.copy()\n",
    "messages.append(\n",
    "{'role':'system', 'content':'create a json summary of the previous food order. Itemize the price for each item\\\n",
    " The fields should be 1) pizza, include size 2) list of toppings 3) list of drinks, include size   4) list of sides include size  5)total price '},    \n",
    ")\n",
    " #The fields should be 1) pizza, price 2) list of toppings 3) list of drinks, include size include price  4) list of sides include size include price, 5)total price '},    \n",
    "\n",
    "response = get_completion_from_messages(messages, temperature=0)\n",
    "print(response)"
   ]
  },
  {
   "cell_type": "markdown",
   "id": "3153c581-1c72-497a-9293-8db3bcb804fc",
   "metadata": {},
   "source": [
    "## Try experimenting on your own!\n",
    "\n",
    "You can modify the menu or instructions to create your own orderbot!"
   ]
  },
  {
   "cell_type": "code",
   "execution_count": null,
   "id": "5d0efefc",
   "metadata": {},
   "outputs": [],
   "source": [
    "import openai\n",
    "\n",
    "# Ensure your API key is set up (this key should be securely managed in a real application)\n",
    "\n",
    "def get_order_response(user_input):\n",
    "    prompt = f\"\"\"\n",
    "    You are an OrderBot for a pizza restaurant. Your job is to take orders from customers. \n",
    "    A customer says: \"{user_input}\"\n",
    "    Your response:\n",
    "    \"\"\"\n",
    "    response = openai.Completion.create(\n",
    "        engine=\"gpt-3.5-turbo\",\n",
    "        prompt=prompt,\n",
    "        temperature=0.5,\n",
    "        max_tokens=150,\n",
    "        n=1,\n",
    "        stop=None,\n",
    "    )\n",
    "    return response.choices[0].text.strip()\n",
    "\n",
    "def order_bot():\n",
    "    print(\"Welcome to the Pizza Restaurant!\")\n",
    "    while True:\n",
    "        user_input = input(\"You: \")\n",
    "        if user_input.lower() in ['exit', 'quit', 'bye']:\n",
    "            print(\"OrderBot: Thank you for visiting! Have a great day!\")\n",
    "            break\n",
    "        response = get_order_response(user_input)\n",
    "        print(f\"OrderBot: {response}\")\n",
    "\n",
    "# Initiate the bot\n",
    "order_bot()"
   ]
  },
  {
   "cell_type": "markdown",
   "id": "7420ff21-68da-49ae-955f-49e8bffa769c",
   "metadata": {},
   "source": [
    "# Exercise\n",
    " - Complete the prompts similar to what we did in class. \n",
    "     - Try at least 3 versions\n",
    "     - Be creative\n",
    " - Write a one page report summarizing your findings.\n",
    "     - Were there variations that didn't work well? i.e., where GPT either hallucinated or wrong\n",
    " - What did you learn?"
   ]
  },
  {
   "cell_type": "code",
   "execution_count": 1,
   "id": "7aff0ebf-dda8-4b18-a704-393243a0a205",
   "metadata": {},
   "outputs": [],
   "source": [
    "import openai\n",
    "\n",
    "# Assume this API key has been securely set in your environment variable\n",
    "#openai.api_key = \"your-openai-api-key\"\n",
    "\n",
    "# Define a sample pizza menu (this can be expanded or modified)\n",
    "pizza_menu = {\n",
    "    \"Margherita\": \"Tomato sauce, mozzarella, and basil\",\n",
    "    \"Pepperoni\": \"Tomato sauce, mozzarella, and pepperoni slices\",\n",
    "    \"Hawaiian\": \"Tomato sauce, mozzarella, ham, and pineapple\",\n",
    "    \"Veggie\": \"Tomato sauce, mozzarella, bell peppers, onions, mushrooms\",\n",
    "}\n",
    "\n"
   ]
  },
  {
   "cell_type": "code",
   "execution_count": 2,
   "id": "10726610",
   "metadata": {},
   "outputs": [],
   "source": [
    "def format_menu():\n",
    "    return \"\\n\".join([f\"{name}: {description}\" for name, description in pizza_menu.items()])\n"
   ]
  },
  {
   "cell_type": "code",
   "execution_count": 3,
   "id": "7f62c834",
   "metadata": {},
   "outputs": [],
   "source": [
    "\n",
    "def get_order_response(user_input):\n",
    "    prompt = f\"\"\"\n",
    "    You are an OrderBot for a pizza restaurant. You take pizza orders based on the available menu.\n",
    "    \n",
    "    Here is the menu:\n",
    "    {format_menu()}\n",
    "\n",
    "    Customers may also customize their orders with additional toppings.\n",
    "    Your tasks:\n",
    "    - Take customer pizza orders, confirm the selected options.\n",
    "    - Answer questions about the menu.\n",
    "    - Allow customization with extra toppings.\n",
    "    \n",
    "    A customer says: \"{user_input}\"\n",
    "    Your response:\n",
    "    \"\"\"\n",
    "    response = openai.Completion.create(\n",
    "        engine=\"gpt-3.5-turbo\",\n",
    "        prompt=prompt,\n",
    "        max_tokens=150,\n",
    "        temperature=0.5,\n",
    "        n=1,\n",
    "        stop=None\n",
    "    )\n",
    "    return response.choices[0].text.strip()\n",
    "\n"
   ]
  },
  {
   "cell_type": "code",
   "execution_count": null,
   "id": "1c4db8e4",
   "metadata": {},
   "outputs": [],
   "source": [
    "def order_bot():\n",
    "    print(\"Welcome to the Pizza Restaurant! Here's our menu:\")\n",
    "    print(format_menu())\n",
    "    print(\"To exit, type 'exit', 'quit', or 'bye'.\")\n",
    "    while True:\n",
    "        user_input = input(\"You: \")\n",
    "        if user_input.lower() in ['exit', 'quit', 'bye']:\n",
    "            print(\"OrderBot: Thank you for visiting! Enjoy your meal!\")\n",
    "            break\n",
    "        response = get_order_response(user_input)\n",
    "        print(f\"OrderBot: {response}\")\n",
    "\n",
    "# Start the bot\n",
    "order_bot()"
   ]
  },
  {
   "cell_type": "markdown",
   "id": "221bcb6d",
   "metadata": {},
   "source": [
    "Excercise 2"
   ]
  },
  {
   "cell_type": "code",
   "execution_count": 1,
   "id": "04139282",
   "metadata": {},
   "outputs": [],
   "source": [
    "import openai\n",
    "\n",
    "# Assume your OpenAI API key is securely set (ensure environmental security in real usage)\n",
    "\n",
    "\n",
    "# Define a function to get responses from OpenAI's language model\n",
    "def get_order_response(user_input):\n",
    "    prompt = f\"\"\"\n",
    "    You are an OrderBot for a pizza restaurant. You take pizza orders based on the available menu.\n",
    "\n",
    "    Menu:\n",
    "    - Margherita: Tomato sauce, mozzarella, and basil\n",
    "    - Pepperoni: Tomato sauce, mozzarella, and pepperoni slices\n",
    "    - Hawaiian: Tomato sauce, mozzarella, ham, and pineapple\n",
    "    - Veggie: Tomato sauce, mozzarella, bell peppers, onions, mushrooms\n",
    "\n",
    "    Customers can customize their orders with additional toppings. \n",
    "    Your task is to help customers with menu inquiries, take orders, and suggest popular options.\n",
    "\n",
    "    A customer says: \"{user_input}\"\n",
    "    OrderBot response:\n",
    "    \"\"\"\n",
    "    response = openai.Completion.create(\n",
    "        engine=\"gpt-3.5-turbo\",\n",
    "        prompt=prompt,\n",
    "        max_tokens=150,\n",
    "        temperature=0.5,\n",
    "        n=1,\n",
    "    )\n",
    "    return response.choices[0].text.strip()\n"
   ]
  },
  {
   "cell_type": "code",
   "execution_count": null,
   "id": "5605f15a",
   "metadata": {},
   "outputs": [],
   "source": [
    "input(\"You: \")"
   ]
  },
  {
   "cell_type": "code",
   "execution_count": null,
   "id": "b1a8f1f3",
   "metadata": {},
   "outputs": [],
   "source": [
    "\n",
    "# Function for interactive ordering\n",
    "'''def order_bot():\n",
    "    print(\"Welcome to the Pizza Restaurant! Here's our menu:\")\n",
    "    print(\"\"\"\n",
    "    - Margherita: Tomato sauce, mozzarella, and basil\n",
    "    - Pepperoni: Tomato sauce, mozzarella, and pepperoni slices\n",
    "    - Hawaiian: Tomato sauce, mozzarella, ham, and pineapple\n",
    "    - Veggie: Tomato sauce, mozzarella, bell peppers, onions, mushrooms\n",
    "    \"\"\")\n",
    "    print(\"To exit, type 'exit', 'quit', or 'bye'.\")\n",
    "    '''\n",
    "def collect_messages():\n",
    "    while True:\n",
    "        user_input = input(\"You: \")\n",
    "        if user_input.lower() in ['exit', 'quit', 'bye']:\n",
    "            print(\"OrderBot: Thank you for visiting! Enjoy your meal!\")\n",
    "            break\n",
    "        response = get_order_response(user_input)\n",
    "        print(f\"OrderBot: {response}\")\n",
    "\n",
    "# Start the bot\n",
    "order_bot()"
   ]
  },
  {
   "cell_type": "code",
   "execution_count": null,
   "id": "030bbf27",
   "metadata": {},
   "outputs": [],
   "source": []
  }
 ],
 "metadata": {
  "kernelspec": {
   "display_name": "base",
   "language": "python",
   "name": "python3"
  },
  "language_info": {
   "codemirror_mode": {
    "name": "ipython",
    "version": 3
   },
   "file_extension": ".py",
   "mimetype": "text/x-python",
   "name": "python",
   "nbconvert_exporter": "python",
   "pygments_lexer": "ipython3",
   "version": "3.12.7"
  }
 },
 "nbformat": 4,
 "nbformat_minor": 5
}
